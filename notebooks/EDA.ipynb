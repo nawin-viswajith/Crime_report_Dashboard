import nbformat as nbf
from pathlib import Path

# Create new notebook
nb = nbf.v4.new_notebook()

cells = []

# 1. Title markdown
cells.append(nbf.v4.new_markdown_cell("# Exploratory Data Analysis\n"
                                      "Tamil Nadu Crime Data (2014–2022)\n\n"
                                      "This notebook walks through data loading, cleaning, and visual exploration "
                                      "of crime trends in Tamil Nadu."))

# 2. Import code cell
imports_code = """import pandas as pd
import numpy as np
import plotly.graph_objects as go
import plotly.express as px
"""
cells.append(nbf.v4.new_code_cell(imports_code))

# 3. Load data
load_code = """file_path = '../data/raw/Crime report.xlsx'  # adjust if different path
df = pd.read_excel(file_path, sheet_name='Sheet2')
df['Category'] = df['Category'].fillna(method='ffill')
df.head()"""
cells.append(nbf.v4.new_code_cell(load_code))

cells.append(nbf.v4.new_markdown_cell("## Basic Summary"))
summary_code = """print("Rows:", df.shape[0])
print("Columns:", df.shape[1])
print("\\nCategories:", df['Category'].unique())"""
cells.append(nbf.v4.new_code_cell(summary_code))

cells.append(nbf.v4.new_markdown_cell("## Category Totals by Year"))
cat_total_code = """years = list(range(2014, 2023))
category_totals = df.groupby('Category')[years].sum()
category_totals"""
cells.append(nbf.v4.new_code_cell(cat_total_code))

cells.append(nbf.v4.new_markdown_cell("### Line Chart – Category Trends"))
line_code = """fig = go.Figure()
for cat in category_totals.index:
    fig.add_trace(go.Scatter(x=years, y=category_totals.loc[cat], mode='lines', name=cat))
fig.update_layout(title='Crime Trend by Category (2014‑2022)', xaxis_title='Year', yaxis_title='Cases')
fig.show()"""
cells.append(nbf.v4.new_code_cell(line_code))

cells.append(nbf.v4.new_markdown_cell("### Stacked Area – Composition"))
stack_code = """fig_stack = go.Figure()
for cat in category_totals.index:
    fig_stack.add_trace(go.Scatter(x=years, y=category_totals.loc[cat], stackgroup='one', name=cat))
fig_stack.update_layout(title='Share of Total Crime by Category')
fig_stack.show()"""
cells.append(nbf.v4.new_code_cell(stack_code))

cells.append(nbf.v4.new_markdown_cell("### Bar Chart – 2022 Distribution"))
bar2022_code = """bar_2022 = category_totals[2022].sort_values(ascending=False)
px.bar(bar_2022, x=bar_2022.index, y=bar_2022.values,
       title='Crime Distribution in 2022', labels={'x':'Category','y':'Cases'}).show()"""
cells.append(nbf.v4.new_code_cell(bar2022_code))

cells.append(nbf.v4.new_markdown_cell("### Waterfall – Year‑on‑Year Change (2021→2022)"))
wf_code = """delta = (category_totals[2022] - category_totals[2021]).sort_values(ascending=False)
fig_wf = go.Figure(go.Waterfall(x=delta.index, y=delta.values, decreasing_marker_color='red', increasing_marker_color='green'))
fig_wf.update_layout(title='Δ 2021→2022', yaxis_title='Change in Cases')
fig_wf.show()"""
cells.append(nbf.v4.new_code_cell(wf_code))

cells.append(nbf.v4.new_markdown_cell("### Heatmap – Top 15 Specific Offences"))
heat_code = """df_top = df.copy()
df_top['Total2022'] = df_top[2022]
top15 = df_top.nlargest(15, 'Total2022')
fig_heat = go.Figure(data=go.Heatmap(z=top15[years].values, x=years, y=top15['Specific Crime Type'],
                                     colorscale='Viridis'))
fig_heat.update_layout(title='Top 15 Offence Heatmap')
fig_heat.show()"""
cells.append(nbf.v4.new_code_cell(heat_code))

cells.append(nbf.v4.new_markdown_cell("### Percent Change 2014→2022"))
pct_code = """pct_change = ((category_totals[2022] - category_totals[2014]) / category_totals[2014] * 100).sort_values()
px.bar(pct_change, x=pct_change.values, y=pct_change.index, orientation='h',
       title='Percent Change 2014‑2022', labels={'x':'%','y':'Category'}).show()"""
cells.append(nbf.v4.new_code_cell(pct_code))

cells.append(nbf.v4.new_markdown_cell("### Correlation Matrix"))
corr_code = """corr = category_totals.T.corr()
fig_corr = go.Figure(data=go.Heatmap(z=corr.values, x=corr.columns, y=corr.index,
                                     colorscale='RdBu', zmid=0))
fig_corr.update_layout(title='Correlation Matrix')
fig_corr.show()"""
cells.append(nbf.v4.new_code_cell(corr_code))

cells.append(nbf.v4.new_markdown_cell("### CAGR 2019‑2022"))
cagr_code = """cagr = (category_totals[2022] / category_totals[2019])**(1/3) - 1
px.bar(cagr*100, x=cagr.index, y=cagr.values*100, title='CAGR 2019‑22',
       labels={'x':'Category','y':'CAGR %'}).show()"""
cells.append(nbf.v4.new_code_cell(cagr_code))

cells.append(nbf.v4.new_markdown_cell("### Pareto – Top 20 Offences 2022"))
pareto_code = """spec_22 = df.set_index('Specific Crime Type')[2022].sort_values(ascending=False).head(20)
cum_perc = spec_22.cumsum()*100/spec_22.sum()
fig_par = go.Figure()
fig_par.add_bar(x=spec_22.index, y=spec_22.values, name='Cases')
fig_par.add_trace(go.Scatter(x=spec_22.index, y=cum_perc, mode='lines+markers',
                             name='Cumulative %', yaxis='y2'))
fig_par.update_layout(title='Pareto Top 20 Offences 2022',
                      yaxis=dict(title='Cases'),
                      yaxis2=dict(overlaying='y', side='right', title='Cumulative %'))
fig_par.show()"""
cells.append(nbf.v4.new_code_cell(pareto_code))

nb['cells'] = cells

# Save notebook
nb_path = Path('/mnt/data/EDA.ipynb')
with nb_path.open('w', encoding='utf-8') as f:
    nbf.write(nb, f)

str(nb_path)
