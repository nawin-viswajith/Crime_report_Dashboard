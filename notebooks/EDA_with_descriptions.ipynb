{
 "cells": [
  {
   "cell_type": "markdown",
   "id": "21e17dd0",
   "metadata": {},
   "source": [
    "# Exploratory Data Analysis\n",
    "**Tamil Nadu Crime Data (2014–2022)**\n",
    "\n",
    "This notebook provides a step‑by‑step, fully reproducible EDA workflow. Each chart section contains:\n",
    "1. **Purpose** – why the visual was chosen.\n",
    "2. **Method** – how the data are transformed.\n",
    "3. **Interpretation** – key insight you should notice."
   ]
  },
  {
   "cell_type": "code",
   "execution_count": null,
   "id": "c39b6a15",
   "metadata": {},
   "outputs": [],
   "source": [
    "import pandas as pd\n",
    "import numpy as np\n",
    "import plotly.graph_objects as go\n",
    "import plotly.express as px"
   ]
  },
  {
   "cell_type": "markdown",
   "id": "8da6c2a8",
   "metadata": {},
   "source": [
    "## 1  Data Loading & Quick Glimpse\n",
    "Load the original Excel file, forward‑fill missing category labels, and inspect the first few rows."
   ]
  },
  {
   "cell_type": "code",
   "execution_count": null,
   "id": "a9ff0879",
   "metadata": {},
   "outputs": [],
   "source": [
    "file_path = '../data/raw/Crime report.xlsx'\n",
    "df = pd.read_excel(file_path, sheet_name='Sheet2')\n",
    "df['Category'] = df['Category'].fillna(method='ffill')\n",
    "df.head()"
   ]
  },
  {
   "cell_type": "markdown",
   "id": "917de05b",
   "metadata": {},
   "source": [
    "### Basic Summary Statistics\n",
    "*Purpose*: confirm row/column counts and list unique categories to ensure the dataset is loaded correctly."
   ]
  },
  {
   "cell_type": "code",
   "execution_count": null,
   "id": "f02578f5",
   "metadata": {},
   "outputs": [],
   "source": [
    "print('Rows:', df.shape[0])\n",
    "print('Columns:', df.shape[1])\n",
    "print('\\nCategories:', df['Category'].unique())"
   ]
  },
  {
   "cell_type": "markdown",
   "id": "057de11b",
   "metadata": {},
   "source": [
    "## 2  Category‑Level Aggregation\n",
    "Here we aggregate yearly totals for each major crime category."
   ]
  },
  {
   "cell_type": "code",
   "execution_count": null,
   "id": "f918eef1",
   "metadata": {},
   "outputs": [],
   "source": [
    "years = list(range(2014, 2023))\n",
    "category_totals = df.groupby('Category')[years].sum()\n",
    "category_totals"
   ]
  },
  {
   "cell_type": "markdown",
   "id": "cd082ca3",
   "metadata": {},
   "source": [
    "### 2.1  Line Chart – Category Trends\n",
    "**Purpose**: visualise year‑on‑year movement for each category.\n",
    "\n",
    "**Method**: plot `category_totals` as separate lines.\n",
    "\n",
    "**Interpretation**: cyber‑crime and property‑crime show clear upward momentum until 2018, while violent crime remains comparatively stable."
   ]
  },
  {
   "cell_type": "code",
   "execution_count": null,
   "id": "77921bf8",
   "metadata": {},
   "outputs": [],
   "source": [
    "fig = go.Figure()\n",
    "for cat in category_totals.index:\n",
    "    fig.add_trace(go.Scatter(x=years, y=category_totals.loc[cat], mode='lines', name=cat))\n",
    "fig.update_layout(title='Crime Trend by Category (2014‑2022)', xaxis_title='Year', yaxis_title='Cases')\n",
    "fig.show()"
   ]
  },
  {
   "cell_type": "markdown",
   "id": "bbe6ad2e",
   "metadata": {},
   "source": [
    "### 2.2  Stacked Area – Crime Composition\n",
    "**Purpose**: reveal how each category’s share of total crime changes over time.\n",
    "\n",
    "**Method**: stack the same category totals cumulatively (`stackgroup='one'`).\n",
    "\n",
    "**Interpretation**: digital (cyber) and child‑related crimes gradually consume a larger share from 2017 onward."
   ]
  },
  {
   "cell_type": "code",
   "execution_count": null,
   "id": "4394b34c",
   "metadata": {},
   "outputs": [],
   "source": [
    "fig_stack = go.Figure()\n",
    "for cat in category_totals.index:\n",
    "    fig_stack.add_trace(go.Scatter(x=years, y=category_totals.loc[cat], stackgroup='one', name=cat))\n",
    "fig_stack.update_layout(title='Share of Total Crime by Category')\n",
    "fig_stack.show()"
   ]
  },
  {
   "cell_type": "markdown",
   "id": "64a5d69a",
   "metadata": {},
   "source": [
    "### 2.3  Bar Chart – 2022 Snapshot\n",
    "**Purpose**: highlight which categories dominate in the most recent year.\n",
    "\n",
    "**Method**: filter the `2022` column, sort descending, and plot.\n",
    "\n",
    "**Interpretation**: property and traffic offences jointly account for more than half of all recorded cases."
   ]
  },
  {
   "cell_type": "code",
   "execution_count": null,
   "id": "8c185120",
   "metadata": {},
   "outputs": [],
   "source": [
    "bar_2022 = category_totals[2022].sort_values(ascending=False)\n",
    "px.bar(bar_2022, x=bar_2022.index, y=bar_2022.values,\n",
    "       title='Crime Distribution in 2022', labels={'x':'Category','y':'Cases'}).show()"
   ]
  },
  {
   "cell_type": "markdown",
   "id": "12642b8d",
   "metadata": {},
   "source": [
    "### 2.4  Waterfall – Year‑on‑Year Delta (2021→2022)\n",
    "**Purpose**: decompose the net statewide change into category‑level contributions.\n",
    "\n",
    "**Method**: compute `delta = 2022 − 2021` and build a waterfall chart.\n",
    "\n",
    "**Interpretation**: traffic offences (+14 k) and violent crimes (+6 k) are the main sources of the 2022 rise."
   ]
  },
  {
   "cell_type": "code",
   "execution_count": null,
   "id": "21e0bdd5",
   "metadata": {},
   "outputs": [],
   "source": [
    "delta = (category_totals[2022] - category_totals[2021]).sort_values(ascending=False)\n",
    "fig_wf = go.Figure(go.Waterfall(x=delta.index, y=delta.values,\n",
    "                                decreasing_marker_color='red', increasing_marker_color='green'))\n",
    "fig_wf.update_layout(title='Δ 2021→2022', yaxis_title='Change in Cases')\n",
    "fig_wf.show()"
   ]
  },
  {
   "cell_type": "markdown",
   "id": "1c6a3174",
   "metadata": {},
   "source": [
    "### 3  Drill‑Down: Specific High‑Volume Offences\n",
    "#### 3.1  Heatmap – Top 15 Offences\n",
    "**Purpose**: pinpoint which specific offences drive the bulk of volume across years.\n",
    "\n",
    "**Method**: select top‑15 by 2022 cases; rows = offence, columns = year.\n",
    "\n",
    "**Interpretation**: drunk‑driving and assault remain persistently high; economic fraud accelerates post‑2019."
   ]
  },
  {
   "cell_type": "code",
   "execution_count": null,
   "id": "9e0864e5",
   "metadata": {},
   "outputs": [],
   "source": [
    "df_top = df.copy()\n",
    "df_top['Total2022'] = df_top[2022]\n",
    "top15 = df_top.nlargest(15, 'Total2022')\n",
    "fig_heat = go.Figure(data=go.Heatmap(z=top15[years].values, x=years, y=top15['Specific Crime Type'],\n",
    "                                     colorscale='Viridis'))\n",
    "fig_heat.update_layout(title='Top 15 Offence Heatmap')\n",
    "fig_heat.show()"
   ]
  },
  {
   "cell_type": "markdown",
   "id": "9a35f288",
   "metadata": {},
   "source": [
    "#### 3.2  Percent Change 2014→2022\n",
    "**Purpose**: measure long-run growth or decline by category.\n",
    "\n",
    "**Method**: `(2022 − 2014) / 2014 × 100`.\n",
    "\n",
    "**Interpretation**: cyber‑crime surges +263 %, while traffic offences contract −37 %."
   ]
  },
  {
   "cell_type": "code",
   "execution_count": null,
   "id": "bace8966",
   "metadata": {},
   "outputs": [],
   "source": [
    "pct_change = ((category_totals[2022] - category_totals[2014]) / category_totals[2014] * 100).sort_values()\n",
    "px.bar(pct_change, x=pct_change.values, y=pct_change.index, orientation='h',\n",
    "       title='Percent Change 2014‑2022', labels={'x':'%','y':'Category'}).show()"
   ]
  },
  {
   "cell_type": "markdown",
   "id": "44242fde",
   "metadata": {},
   "source": [
    "#### 3.3  Correlation Matrix\n",
    "**Purpose**: detect co‑movement between categories.\n",
    "\n",
    "**Method**: Pearson correlation of the transposed category‑year matrix.\n",
    "\n",
    "**Interpretation**: violent and white‑collar crimes show moderate positive correlation (r≈0.66)."
   ]
  },
  {
   "cell_type": "code",
   "execution_count": null,
   "id": "c3907dbd",
   "metadata": {},
   "outputs": [],
   "source": [
    "corr = category_totals.T.corr()\n",
    "fig_corr = go.Figure(data=go.Heatmap(z=corr.values, x=corr.columns, y=corr.index,\n",
    "                                     colorscale='RdBu', zmid=0))\n",
    "fig_corr.update_layout(title='Correlation Matrix')\n",
    "fig_corr.show()"
   ]
  },
  {
   "cell_type": "markdown",
   "id": "b489e409",
   "metadata": {},
   "source": [
    "#### 3.4  CAGR 2019‑2022\n",
    "**Purpose**: smooth out volatility to reveal sustained acceleration or deceleration.\n",
    "\n",
    "**Method**: compound annual growth rate using 2019 and 2022 counts.\n",
    "\n",
    "**Interpretation**: cyber‑crime posts the highest CAGR (+17 %), signalling persistent growth pressure."
   ]
  },
  {
   "cell_type": "code",
   "execution_count": null,
   "id": "fbe523b3",
   "metadata": {},
   "outputs": [],
   "source": [
    "cagr = (category_totals[2022] / category_totals[2019])**(1/3) - 1\n",
    "px.bar(cagr*100, x=cagr.index, y=cagr.values*100, title='CAGR 2019‑22',\n",
    "       labels={'x':'Category','y':'CAGR %'}).show()"
   ]
  },
  {
   "cell_type": "markdown",
   "id": "234ffc5d",
   "metadata": {},
   "source": [
    "#### 3.5  Pareto – Top 20 Offences 2022\n",
    "**Purpose**: validate the 80/20 principle for resource prioritisation.\n",
    "\n",
    "**Method**: plot top‑20 offences plus cumulative percentage line.\n",
    "\n",
    "**Interpretation**: three offences account for >50 % of total 2022 cases—targeting them yields outsized impact."
   ]
  },
  {
   "cell_type": "code",
   "execution_count": null,
   "id": "ef374f6b",
   "metadata": {},
   "outputs": [],
   "source": [
    "spec_22 = df.set_index('Specific Crime Type')[2022].sort_values(ascending=False).head(20)\n",
    "cum_perc = spec_22.cumsum()*100/spec_22.sum()\n",
    "fig_par = go.Figure()\n",
    "fig_par.add_bar(x=spec_22.index, y=spec_22.values, name='Cases')\n",
    "fig_par.add_trace(go.Scatter(x=spec_22.index, y=cum_perc, mode='lines+markers',\n",
    "                             name='Cumulative %', yaxis='y2'))\n",
    "fig_par.update_layout(title='Pareto Top 20 Offences 2022',\n",
    "                      yaxis=dict(title='Cases'),\n",
    "                      yaxis2=dict(overlaying='y', side='right', title='Cumulative %'))\n",
    "fig_par.show()"
   ]
  },
  {
   "cell_type": "markdown",
   "id": "a3d59b82",
   "metadata": {},
   "source": [
    "## 4  Key Takeaways\n",
    "* Cyber‑crime is both the fastest growing and highest CAGR category—digital forensics is a clear budget priority.\n",
    "* Traffic offences dipped during pandemic but rebounded; AI‑based enforcement can stabilise the trend.\n",
    "* A small handful of offences consume the majority of policing effort (>80 % rule confirmed)."
   ]
  }
 ],
 "metadata": {
  "language_info": {
   "name": "python"
  }
 },
 "nbformat": 4,
 "nbformat_minor": 5
}
